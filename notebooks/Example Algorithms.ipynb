{
 "cells": [
  {
   "cell_type": "code",
   "execution_count": 1,
   "metadata": {},
   "outputs": [],
   "source": [
    "import os\n",
    "import sys\n",
    "module_path = os.path.abspath(os.path.join('..'))\n",
    "if module_path not in sys.path:\n",
    "    sys.path.append(module_path)"
   ]
  },
  {
   "cell_type": "code",
   "execution_count": 2,
   "metadata": {},
   "outputs": [],
   "source": [
    "from register import QuantumRegister\n",
    "from gate import QuantumGate\n",
    "from utils import plot_counts\n",
    "from program_parser import parse_program\n",
    "\n",
    "import matplotlib.pyplot as plt\n",
    "from scipy.optimize import minimize\n",
    "\n",
    "import numpy as np\n",
    "\n",
    "import math"
   ]
  },
  {
   "cell_type": "markdown",
   "metadata": {},
   "source": [
    "# Grover's Algorithm"
   ]
  },
  {
   "cell_type": "markdown",
   "metadata": {},
   "source": [
    "## Without dedicated oracle qubit"
   ]
  },
  {
   "cell_type": "code",
   "execution_count": 3,
   "metadata": {},
   "outputs": [],
   "source": [
    "quantum_reg = QuantumRegister(2)"
   ]
  },
  {
   "cell_type": "code",
   "execution_count": 4,
   "metadata": {},
   "outputs": [
    {
     "data": {
      "text/plain": [
       "[['h', [0, 1]],\n",
       " ['cz', [0, 1]],\n",
       " ['h', [0, 1]],\n",
       " ['z', [0, 1]],\n",
       " ['cz', [0, 1]],\n",
       " ['h', [0, 1]]]"
      ]
     },
     "execution_count": 4,
     "metadata": {},
     "output_type": "execute_result"
    }
   ],
   "source": [
    "circ = '../sample_circuits/Simple_grover.txt' # Grover oracle to look for string '11'\n",
    "\n",
    "circ = parse_program(circ)\n",
    "\n",
    "circ"
   ]
  },
  {
   "cell_type": "code",
   "execution_count": 5,
   "metadata": {},
   "outputs": [
    {
     "data": {
      "image/png": "[encoded data removed]",
      "text/plain": [
       "<Figure size 432x288 with 1 Axes>"
      ]
     },
     "metadata": {
      "needs_background": "light"
     },
     "output_type": "display_data"
    }
   ],
   "source": [
    "quantum_reg.run_program(circ)\n",
    "\n",
    "plot_counts(quantum_reg.measure(100))"
   ]
  },
  {
   "cell_type": "markdown",
   "metadata": {},
   "source": [
    "## With dedicated oracle qubit (Phase Kickback)"
   ]
  },
  {
   "cell_type": "code",
   "execution_count": 6,
   "metadata": {},
   "outputs": [],
   "source": [
    "quantum_reg = QuantumRegister(3)"
   ]
  },
  {
   "cell_type": "code",
   "execution_count": 7,
   "metadata": {},
   "outputs": [
    {
     "data": {
      "text/plain": [
       "[['h', [2]],\n",
       " ['z', [2]],\n",
       " ['h', [0, 1]],\n",
       " ['x', [0]],\n",
       " ['ccx', [0, 1, 2]],\n",
       " ['x', [0]],\n",
       " ['h', [0, 1]],\n",
       " ['z', [0, 1]],\n",
       " ['cz', [0, 1]],\n",
       " ['h', [0, 1]]]"
      ]
     },
     "execution_count": 7,
     "metadata": {},
     "output_type": "execute_result"
    }
   ],
   "source": [
    "circ = '../sample_circuits/Grover_with_flip_qubit.txt' # Grover oracle to look for string '01'\n",
    "\n",
    "circ = parse_program(circ)\n",
    "\n",
    "circ"
   ]
  },
  {
   "cell_type": "code",
   "execution_count": 8,
   "metadata": {},
   "outputs": [
    {
     "data": {
      "image/png": "[encoded data removed]",
      "text/plain": [
       "<Figure size 432x288 with 1 Axes>"
      ]
     },
     "metadata": {
      "needs_background": "light"
     },
     "output_type": "display_data"
    }
   ],
   "source": [
    "quantum_reg.run_program(circ)\n",
    "\n",
    "plot_counts(quantum_reg.measure(100, [0,1]))"
   ]
  },
  {
   "cell_type": "markdown",
   "metadata": {},
   "source": [
    "# Phase Estimation"
   ]
  },
  {
   "cell_type": "markdown",
   "metadata": {},
   "source": [
    "Let's estimate the phase of the T gate, just like this [tutorial](https://qiskit.org/textbook/ch-algorithms/quantum-phase-estimation.html)."
   ]
  },
  {
   "cell_type": "code",
   "execution_count": 9,
   "metadata": {},
   "outputs": [],
   "source": [
    "reg = QuantumRegister(4)\n",
    "reg.set_endianness('little') # we need to read the qubits in reverse order for this algorithm"
   ]
  },
  {
   "cell_type": "code",
   "execution_count": 10,
   "metadata": {},
   "outputs": [
    {
     "name": "stdout",
     "output_type": "stream",
     "text": [
      "[['h', [0, 1, 2]], ['x', [3]], ['ct', [0, 3]], ['ct', [1, 3]], ['ct', [1, 3]], ['ct', [2, 3]], ['ct', [2, 3]], ['ct', [2, 3]], ['ct', [2, 3]]]\n",
      "[['h', [2]], ['crot', -1.57079632679, [1, 2]], ['crot', -0.78539816339, [0, 2]], ['h', [1]], ['crot', -1.57079632679, [0, 1]], ['h', [0]], ['swap', [0, 2]]]\n"
     ]
    }
   ],
   "source": [
    "phase_est = '../sample_circuits/Phase_estimation_T.txt' \n",
    "QFT = '../sample_circuits/QFT_3_qubits.txt' \n",
    "\n",
    "phase_est = parse_program(phase_est)\n",
    "QFT = parse_program(QFT)\n",
    "\n",
    "print(phase_est)\n",
    "print(QFT)"
   ]
  },
  {
   "cell_type": "code",
   "execution_count": 11,
   "metadata": {},
   "outputs": [],
   "source": [
    "reg.run_program(phase_est)"
   ]
  },
  {
   "cell_type": "code",
   "execution_count": 12,
   "metadata": {},
   "outputs": [],
   "source": [
    "reg.run_program(QFT, reversed=True)"
   ]
  },
  {
   "cell_type": "code",
   "execution_count": 13,
   "metadata": {},
   "outputs": [],
   "source": [
    "reg.add_gate(QuantumGate('x'), [3])\n",
    "reg.apply()"
   ]
  },
  {
   "cell_type": "code",
   "execution_count": 14,
   "metadata": {},
   "outputs": [
    {
     "data": {
      "text/plain": [
       "{'001': 100}"
      ]
     },
     "execution_count": 14,
     "metadata": {},
     "output_type": "execute_result"
    }
   ],
   "source": [
    "res = reg.measure(100, [1, 2, 3])\n",
    "\n",
    "res"
   ]
  },
  {
   "cell_type": "markdown",
   "metadata": {},
   "source": [
    "Convert to decimal"
   ]
  },
  {
   "cell_type": "code",
   "execution_count": 15,
   "metadata": {},
   "outputs": [
    {
     "name": "stdout",
     "output_type": "stream",
     "text": [
      "Phase coefficient: 0.125\n"
     ]
    }
   ],
   "source": [
    "print('Phase coefficient:', (int(max(res.keys()), 2) / 2 ** 3))"
   ]
  },
  {
   "cell_type": "markdown",
   "metadata": {},
   "source": [
    "The result coincides with the phase caused with a T-gate.\n",
    "$$T = \\begin{pmatrix}\n",
    "1 & 0\\\\ \n",
    "0 & e^{i \\frac{\\pi}{4}}\n",
    "\\end{pmatrix}$$"
   ]
  },
  {
   "cell_type": "markdown",
   "metadata": {},
   "source": [
    "# Variational Algorithms"
   ]
  },
  {
   "cell_type": "markdown",
   "metadata": {},
   "source": [
    "We will attempt to find an approximation of the ZY-decomposition of the Hadamard gate, by trying to achieve the same superposition in the $\\{0, 1\\}$ basis (of course, this doesn't count for the phase). We will use the SWAP test."
   ]
  },
  {
   "cell_type": "code",
   "execution_count": 16,
   "metadata": {},
   "outputs": [],
   "source": [
    "reg = QuantumRegister(3)"
   ]
  },
  {
   "cell_type": "code",
   "execution_count": 17,
   "metadata": {},
   "outputs": [
    {
     "data": {
      "text/plain": [
       "[['h', [0, 2]],\n",
       " ['rz', 'global_1', [1]],\n",
       " ['ry', 'global_2', [1]],\n",
       " ['rz', 'global_3', [1]],\n",
       " ['cswap', [0, 1, 2]],\n",
       " ['h', [0]]]"
      ]
     },
     "execution_count": 17,
     "metadata": {},
     "output_type": "execute_result"
    }
   ],
   "source": [
    "circ = '../sample_circuits/Variational_algorithm.txt'\n",
    "\n",
    "circ = parse_program(circ)\n",
    "\n",
    "circ"
   ]
  },
  {
   "cell_type": "code",
   "execution_count": 18,
   "metadata": {},
   "outputs": [],
   "source": [
    "def objective_function(params):\n",
    "    reg.reset()\n",
    "    reg.run_program(circ, { \"global_1\": params[0], \"global_2\": params[1], \"global_3\": params[2] })\n",
    "\n",
    "    counts = reg.measure(1000, [0])\n",
    "\n",
    "    zeros = counts['0'] if '0' in counts.keys() else 0\n",
    "    ones = counts['1'] if '1' in counts.keys() else 0\n",
    "\n",
    "    ratio = ones / zeros\n",
    "    \n",
    "    return ratio"
   ]
  },
  {
   "cell_type": "code",
   "execution_count": 19,
   "metadata": {},
   "outputs": [],
   "source": [
    "# initial values\n",
    "params = np.array([1.5708, 1.5708, 1.5708])"
   ]
  },
  {
   "cell_type": "code",
   "execution_count": 20,
   "metadata": {},
   "outputs": [],
   "source": [
    "%%capture\n",
    "minimum = minimize(objective_function, params, method=\"Powell\", tol=1e-6)"
   ]
  },
  {
   "cell_type": "code",
   "execution_count": 21,
   "metadata": {},
   "outputs": [
    {
     "data": {
      "text/plain": [
       "   direc: array([[1., 0., 0.],\n",
       "       [0., 1., 0.],\n",
       "       [0., 0., 1.]])\n",
       "     fun: array(0.)\n",
       " message: 'Optimization terminated successfully.'\n",
       "    nfev: 195\n",
       "     nit: 3\n",
       "  status: 0\n",
       " success: True\n",
       "       x: array([ 0.48394507,  1.57945061, -0.00894364])"
      ]
     },
     "execution_count": 21,
     "metadata": {},
     "output_type": "execute_result"
    }
   ],
   "source": [
    "minimum"
   ]
  },
  {
   "cell_type": "markdown",
   "metadata": {},
   "source": [
    "Let's test the approximated angles."
   ]
  },
  {
   "cell_type": "code",
   "execution_count": 22,
   "metadata": {},
   "outputs": [],
   "source": [
    "params = minimum.x"
   ]
  },
  {
   "cell_type": "code",
   "execution_count": 23,
   "metadata": {},
   "outputs": [
    {
     "data": {
      "image/png": "[encoded data removed]",
      "text/plain": [
       "<Figure size 432x288 with 1 Axes>"
      ]
     },
     "metadata": {
      "needs_background": "light"
     },
     "output_type": "display_data"
    }
   ],
   "source": [
    "reg.reset()\n",
    "reg.run_program(circ, { \"global_1\": params[0], \"global_2\": params[1], \"global_3\": params[2] })\n",
    "plot_counts(reg.measure(100, [1]))"
   ]
  },
  {
   "cell_type": "code",
   "execution_count": null,
   "metadata": {},
   "outputs": [],
   "source": []
  }
 ],
 "metadata": {
  "kernelspec": {
   "display_name": "Python 3",
   "language": "python",
   "name": "python3"
  },
  "language_info": {
   "codemirror_mode": {
    "name": "ipython",
    "version": 3
   },
   "file_extension": ".py",
   "mimetype": "text/x-python",
   "name": "python",
   "nbconvert_exporter": "python",
   "pygments_lexer": "ipython3",
   "version": "3.7.6"
  }
 },
 "nbformat": 4,
 "nbformat_minor": 4
}
