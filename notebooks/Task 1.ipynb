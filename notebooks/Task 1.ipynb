{
 "cells": [
  {
   "cell_type": "markdown",
   "metadata": {},
   "source": [
    "The Swap test is a simple quantum circuit which, given two states, allows to compute how much do they differ from each other."
   ]
  },
  {
   "cell_type": "markdown",
   "metadata": {},
   "source": [
    "## Import modules"
   ]
  },
  {
   "cell_type": "code",
   "execution_count": 1,
   "metadata": {},
   "outputs": [],
   "source": [
    "import os\n",
    "import sys\n",
    "module_path = os.path.abspath(os.path.join('..'))\n",
    "if module_path not in sys.path:\n",
    "    sys.path.append(module_path)"
   ]
  },
  {
   "cell_type": "code",
   "execution_count": 2,
   "metadata": {},
   "outputs": [],
   "source": [
    "from register import QuantumRegister\n",
    "from gate import QuantumGate\n",
    "from utils import plot_counts\n",
    "from program_parser import parse_program\n",
    "\n",
    "import numpy as np\n",
    "\n",
    "from scipy.optimize import minimize\n",
    "\n",
    "import math\n",
    "import random"
   ]
  },
  {
   "cell_type": "markdown",
   "metadata": {},
   "source": [
    "## Solving first part"
   ]
  },
  {
   "cell_type": "markdown",
   "metadata": {},
   "source": [
    "1. Provide a variational (also called parametric) circuit which is able to generate the most general 1 qubit state. By most general 1 qubit state we mean that there exists a set of the parameters in the circuit such that any point in the Bloch sphere can be reached. Check that the circuit works correctly by showing that by varying randomly the parameters of your circuit you can reproduce correctly the Bloch sphere."
   ]
  },
  {
   "cell_type": "markdown",
   "metadata": {},
   "source": [
    "Any quantum state can be represented on a bloch sphere by a rotation around the Y-axis followed by a rotation around the Z-axis. Since we are restricted to states on a Bloch sphere, we are ignoring the global phase."
   ]
  },
  {
   "cell_type": "code",
   "execution_count": 3,
   "metadata": {},
   "outputs": [],
   "source": [
    "def general_state(circuit, index, theta, phi):\n",
    "    circuit.add_gate(QuantumGate('Ry', theta), [index])\n",
    "    circuit.add_gate(QuantumGate('Rot', phi), [index])\n",
    "    circuit.apply()"
   ]
  },
  {
   "cell_type": "code",
   "execution_count": 4,
   "metadata": {},
   "outputs": [
    {
     "name": "stdout",
     "output_type": "stream",
     "text": [
      "[1.+0.j 0.+0.j]\n",
      "[0.70710678+0.j         0.        +0.70710678j]\n"
     ]
    },
    {
     "data": {
      "text/plain": [
       "{'0': 44, '1': 56}"
      ]
     },
     "execution_count": 4,
     "metadata": {},
     "output_type": "execute_result"
    }
   ],
   "source": [
    "reg = QuantumRegister(1)\n",
    "\n",
    "print(reg.get_statevector())\n",
    "\n",
    "theta = math.pi / 2\n",
    "phi = math.pi / 2\n",
    "\n",
    "general_state(reg, 0, theta, phi)\n",
    "\n",
    "print(reg.get_statevector())\n",
    "\n",
    "reg.measure(100)"
   ]
  },
  {
   "cell_type": "markdown",
   "metadata": {},
   "source": [
    "## Solving second part"
   ]
  },
  {
   "cell_type": "markdown",
   "metadata": {},
   "source": [
    "2. Use the circuit built in step 1) and, using the SWAP test, find the best choice of your parameters to reproduce a randomly generated quantum state made with 1 qubit."
   ]
  },
  {
   "cell_type": "markdown",
   "metadata": {},
   "source": [
    "#### First, generate a random state."
   ]
  },
  {
   "cell_type": "code",
   "execution_count": 5,
   "metadata": {},
   "outputs": [
    {
     "data": {
      "text/plain": [
       "(0.3728611729884365, 5.0090304310690055)"
      ]
     },
     "execution_count": 5,
     "metadata": {},
     "output_type": "execute_result"
    }
   ],
   "source": [
    "theta_r = random.uniform(0.0, math.pi)\n",
    "phi_r = random.uniform(0.0, 2*math.pi)\n",
    "\n",
    "theta_r, phi_r"
   ]
  },
  {
   "cell_type": "markdown",
   "metadata": {},
   "source": [
    "#### Check the statevector of the state"
   ]
  },
  {
   "cell_type": "code",
   "execution_count": 6,
   "metadata": {},
   "outputs": [
    {
     "data": {
      "text/plain": [
       "array([0.98267209+0.j        , 0.0541804 -0.17725699j])"
      ]
     },
     "execution_count": 6,
     "metadata": {},
     "output_type": "execute_result"
    }
   ],
   "source": [
    "tmp = QuantumRegister(1)\n",
    "general_state(tmp, 0, theta_r, phi_r)\n",
    "tmp.get_statevector()"
   ]
  },
  {
   "cell_type": "markdown",
   "metadata": {},
   "source": [
    "#### Run the optimisation routine"
   ]
  },
  {
   "cell_type": "code",
   "execution_count": 7,
   "metadata": {},
   "outputs": [],
   "source": [
    "circ = [   \n",
    "    { \"gate\": \"h\", \"target\": [0] },\n",
    "    { \"gate\": \"ry\", \"params\": { \"theta\": theta_r}, \"target\": [2] },\n",
    "    { \"gate\": \"rot\", \"params\": { \"theta\": phi_r}, \"target\": [2] },\n",
    "    { \"gate\": \"ry\", \"params\": { \"theta\": \"global_1\"}, \"target\": [1] },\n",
    "    { \"gate\": \"rot\", \"params\": { \"theta\": \"global_2\"}, \"target\": [1] },\n",
    "    {\"gate\":\"cswap\", \"target\": [0, 1, 2]},\n",
    "    { \"gate\": \"h\", \"target\": [0] }\n",
    "]\n",
    "\n",
    "circ = parse_program(circ)\n",
    "\n",
    "reg = QuantumRegister(3)"
   ]
  },
  {
   "cell_type": "code",
   "execution_count": 8,
   "metadata": {},
   "outputs": [],
   "source": [
    "def run_circuit(params, shots):\n",
    "    reg.reset()\n",
    "    reg.run_program(circ, { \"global_1\": params[0], \"global_2\": params[1] })\n",
    "    \n",
    "    return reg.measure(shots, [0])"
   ]
  },
  {
   "cell_type": "code",
   "execution_count": 9,
   "metadata": {},
   "outputs": [],
   "source": [
    "def objective_function(params):\n",
    "    measurements = 10000\n",
    "    counts = run_circuit(params, measurements)\n",
    "\n",
    "    zeros = counts['0']\n",
    "\n",
    "    ratio = zeros / measurements\n",
    "    \n",
    "    return 1 - 2 * ratio"
   ]
  },
  {
   "cell_type": "code",
   "execution_count": 10,
   "metadata": {},
   "outputs": [],
   "source": [
    "params = np.array([1.5708, 1.5708])"
   ]
  },
  {
   "cell_type": "code",
   "execution_count": 11,
   "metadata": {},
   "outputs": [],
   "source": [
    "%%capture\n",
    "minimum = minimize(objective_function, params, method=\"Powell\", tol=1e-7)"
   ]
  },
  {
   "cell_type": "code",
   "execution_count": 12,
   "metadata": {},
   "outputs": [
    {
     "data": {
      "text/plain": [
       "   direc: array([[1., 0.],\n",
       "       [0., 1.]])\n",
       "     fun: array(-1.)\n",
       " message: 'Optimization terminated successfully.'\n",
       "    nfev: 137\n",
       "     nit: 2\n",
       "  status: 0\n",
       " success: True\n",
       "       x: array([-0.37171107,  1.87039125])"
      ]
     },
     "execution_count": 12,
     "metadata": {},
     "output_type": "execute_result"
    }
   ],
   "source": [
    "minimum"
   ]
  },
  {
   "cell_type": "code",
   "execution_count": 13,
   "metadata": {},
   "outputs": [],
   "source": [
    "theta_a, phi_a = minimum.x"
   ]
  },
  {
   "cell_type": "markdown",
   "metadata": {},
   "source": [
    "#### Check the validity of the solution"
   ]
  },
  {
   "cell_type": "code",
   "execution_count": 14,
   "metadata": {},
   "outputs": [
    {
     "name": "stdout",
     "output_type": "stream",
     "text": [
      "Original:\t [0.98267209+0.j         0.0541804 -0.17725699j]\n",
      "Approximated:\t [0.98277852+0.j         0.0545369 -0.17655626j]\n",
      "MSE:\t (-0+0j)\n"
     ]
    }
   ],
   "source": [
    "approx = QuantumRegister(1)\n",
    "general_state(approx, 0, theta_a, phi_a)\n",
    "print('Original:\\t', tmp.get_statevector())\n",
    "print('Approximated:\\t', approx.get_statevector())\n",
    "\n",
    "mse = (np.square(tmp.get_statevector() - approx.get_statevector())).mean()\n",
    "print('MSE:\\t', np.round(mse, 5))"
   ]
  },
  {
   "cell_type": "markdown",
   "metadata": {},
   "source": [
    "## Solving third part"
   ]
  },
  {
   "cell_type": "markdown",
   "metadata": {},
   "source": [
    "3. Suppose you are given with a random state, made by N qubits, for which you only know that it is a product state and each of the qubits are in the state | 0 > or | 1>. By product state we mean that it can be written as the product of single qubit states, without the need to do any summation. For example, the state |a> = |01> is a product state, while the state |b> = |00> + |11> is not.\n",
    "\n",
    "Perform a qubit by qubit SWAP test to reconstruct the state. This part of the problem can be solved via a simple grid search."
   ]
  },
  {
   "cell_type": "code",
   "execution_count": 15,
   "metadata": {},
   "outputs": [
    {
     "data": {
      "text/plain": [
       "'00110'"
      ]
     },
     "execution_count": 15,
     "metadata": {},
     "output_type": "execute_result"
    }
   ],
   "source": [
    "n = 5\n",
    "\n",
    "init_state = ''\n",
    "for i in range(n):\n",
    "    tmp = random.randint(0, 10)\n",
    "    \n",
    "    if tmp > 4:\n",
    "        init_state += '0'\n",
    "    else:\n",
    "        init_state += '1'\n",
    "init_state"
   ]
  },
  {
   "cell_type": "code",
   "execution_count": 16,
   "metadata": {},
   "outputs": [],
   "source": [
    "# Create the circuit\n",
    "reg = QuantumRegister(2 * n + 1)"
   ]
  },
  {
   "cell_type": "code",
   "execution_count": 17,
   "metadata": {},
   "outputs": [],
   "source": [
    "def initialise_circuit(state_string, circuit):\n",
    "    for i in range(n):\n",
    "        if state_string[i] == '0':\n",
    "            circuit.initialise_qubit(i + 1, QuantumRegister.zero)\n",
    "        else:\n",
    "            circuit.initialise_qubit(i + 1, QuantumRegister.one)"
   ]
  },
  {
   "cell_type": "code",
   "execution_count": 18,
   "metadata": {},
   "outputs": [],
   "source": [
    "def detect_state(circuit):\n",
    "    result = ''\n",
    "    \n",
    "    for i in range(n):\n",
    "        reg.reset()\n",
    "        \n",
    "        initialise_circuit(init_state, reg)\n",
    "        \n",
    "        circ = [\n",
    "            { \"gate\": \"h\", \"target\": [0] },\n",
    "            { \"gate\": \"cswap\", \"target\": [0, i + 1, (i + 1) + n]},\n",
    "            { \"gate\": \"h\", \"target\": [0] }\n",
    "        ]\n",
    "        \n",
    "        circ = parse_program(circ)\n",
    "        \n",
    "        reg.run_program(circ)\n",
    "        \n",
    "        counts = reg.measure(10, [0])\n",
    "        \n",
    "        found = False\n",
    "        for key in counts.keys():\n",
    "            if key.startswith('1'):\n",
    "                result += '1'\n",
    "                found = True\n",
    "                break\n",
    "        \n",
    "        if not found:\n",
    "            result += '0'\n",
    "    \n",
    "    return result"
   ]
  },
  {
   "cell_type": "code",
   "execution_count": null,
   "metadata": {},
   "outputs": [],
   "source": [
    "state = detect_state(reg)"
   ]
  },
  {
   "cell_type": "code",
   "execution_count": 20,
   "metadata": {},
   "outputs": [
    {
     "data": {
      "text/plain": [
       "('00110', '00110')"
      ]
     },
     "execution_count": 20,
     "metadata": {},
     "output_type": "execute_result"
    }
   ],
   "source": [
    "state, init_state"
   ]
  },
  {
   "cell_type": "code",
   "execution_count": null,
   "metadata": {},
   "outputs": [],
   "source": []
  }
 ],
 "metadata": {
  "kernelspec": {
   "display_name": "Python 3",
   "language": "python",
   "name": "python3"
  },
  "language_info": {
   "codemirror_mode": {
    "name": "ipython",
    "version": 3
   },
   "file_extension": ".py",
   "mimetype": "text/x-python",
   "name": "python",
   "nbconvert_exporter": "python",
   "pygments_lexer": "ipython3",
   "version": "3.7.6"
  }
 },
 "nbformat": 4,
 "nbformat_minor": 4
}
