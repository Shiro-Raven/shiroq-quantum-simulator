{
 "cells": [
  {
   "cell_type": "markdown",
   "metadata": {},
   "source": [
    "This notebook is aimed at giving a walkthrough of this simulator"
   ]
  },
  {
   "cell_type": "code",
   "execution_count": 1,
   "metadata": {},
   "outputs": [],
   "source": [
    "import os\n",
    "import sys\n",
    "module_path = os.path.abspath(os.path.join('..'))\n",
    "if module_path not in sys.path:\n",
    "    sys.path.append(module_path)"
   ]
  },
  {
   "cell_type": "code",
   "execution_count": 2,
   "metadata": {},
   "outputs": [],
   "source": [
    "from register import QuantumRegister\n",
    "from gate import QuantumGate\n",
    "from utils import plot_counts\n",
    "import matplotlib.pyplot as plt\n",
    "\n",
    "import math"
   ]
  },
  {
   "cell_type": "markdown",
   "metadata": {},
   "source": [
    "## Initialising a Quantum Register"
   ]
  },
  {
   "cell_type": "code",
   "execution_count": 3,
   "metadata": {},
   "outputs": [],
   "source": [
    "quantum_reg = QuantumRegister(5)"
   ]
  },
  {
   "cell_type": "code",
   "execution_count": 4,
   "metadata": {},
   "outputs": [
    {
     "data": {
      "text/plain": [
       "5"
      ]
     },
     "execution_count": 4,
     "metadata": {},
     "output_type": "execute_result"
    }
   ],
   "source": [
    "quantum_reg.get_register_size()"
   ]
  },
  {
   "cell_type": "code",
   "execution_count": 5,
   "metadata": {},
   "outputs": [],
   "source": [
    "counts = quantum_reg.measure(100)"
   ]
  },
  {
   "cell_type": "code",
   "execution_count": 6,
   "metadata": {},
   "outputs": [
    {
     "data": {
      "image/png": "[encoded data removed]",
      "text/plain": [
       "<Figure size 432x288 with 1 Axes>"
      ]
     },
     "metadata": {
      "needs_background": "light"
     },
     "output_type": "display_data"
    }
   ],
   "source": [
    "plot_counts(counts)"
   ]
  },
  {
   "cell_type": "markdown",
   "metadata": {},
   "source": [
    "As you can see, all of our qubits are in ground state."
   ]
  },
  {
   "cell_type": "markdown",
   "metadata": {},
   "source": [
    "## Let's put some qubits into superposition!"
   ]
  },
  {
   "cell_type": "code",
   "execution_count": 7,
   "metadata": {},
   "outputs": [],
   "source": [
    "quantum_reg.reset()\n",
    "quantum_reg.add_gate(QuantumGate('h'), [0, 3])"
   ]
  },
  {
   "cell_type": "code",
   "execution_count": 8,
   "metadata": {},
   "outputs": [],
   "source": [
    "quantum_reg.apply()"
   ]
  },
  {
   "cell_type": "code",
   "execution_count": 9,
   "metadata": {},
   "outputs": [
    {
     "data": {
      "image/png": "[encoded data removed]",
      "text/plain": [
       "<Figure size 432x288 with 1 Axes>"
      ]
     },
     "metadata": {
      "needs_background": "light"
     },
     "output_type": "display_data"
    }
   ],
   "source": [
    "plot_counts(quantum_reg.measure(100))"
   ]
  },
  {
   "cell_type": "markdown",
   "metadata": {},
   "source": [
    "As expected, the two qubits in superposition collapsed to all four possible permuations of state collapse. (Notice that indexing here is big endian)."
   ]
  },
  {
   "cell_type": "markdown",
   "metadata": {},
   "source": [
    "## How about we entangle some qubits now?"
   ]
  },
  {
   "cell_type": "code",
   "execution_count": 10,
   "metadata": {},
   "outputs": [],
   "source": [
    "# First, we reset our circuit\n",
    "quantum_reg.reset()\n",
    "\n",
    "quantum_reg.add_gate(QuantumGate('h'), [0])\n",
    "quantum_reg.add_gate(QuantumGate('cx'), [0, 1]) # Attempting Bell state |B_00>"
   ]
  },
  {
   "cell_type": "code",
   "execution_count": 11,
   "metadata": {},
   "outputs": [],
   "source": [
    "quantum_reg.apply()"
   ]
  },
  {
   "cell_type": "code",
   "execution_count": 12,
   "metadata": {},
   "outputs": [
    {
     "data": {
      "text/plain": [
       "array([0.70710678+0.j, 0.        +0.j, 0.        +0.j, 0.        +0.j,\n",
       "       0.        +0.j, 0.        +0.j, 0.        +0.j, 0.        +0.j,\n",
       "       0.        +0.j, 0.        +0.j, 0.        +0.j, 0.        +0.j,\n",
       "       0.        +0.j, 0.        +0.j, 0.        +0.j, 0.        +0.j,\n",
       "       0.        +0.j, 0.        +0.j, 0.        +0.j, 0.        +0.j,\n",
       "       0.        +0.j, 0.        +0.j, 0.        +0.j, 0.        +0.j,\n",
       "       0.70710678+0.j, 0.        +0.j, 0.        +0.j, 0.        +0.j,\n",
       "       0.        +0.j, 0.        +0.j, 0.        +0.j, 0.        +0.j])"
      ]
     },
     "execution_count": 12,
     "metadata": {},
     "output_type": "execute_result"
    }
   ],
   "source": [
    "quantum_reg.get_statevector()"
   ]
  },
  {
   "cell_type": "markdown",
   "metadata": {},
   "source": [
    "We can see that we have a superposition of two states, which is what we expect."
   ]
  },
  {
   "cell_type": "code",
   "execution_count": 13,
   "metadata": {},
   "outputs": [
    {
     "data": {
      "image/png": "[encoded data removed]",
      "text/plain": [
       "<Figure size 432x288 with 1 Axes>"
      ]
     },
     "metadata": {
      "needs_background": "light"
     },
     "output_type": "display_data"
    }
   ],
   "source": [
    "plot_counts(quantum_reg.measure(100, [0, 1])) # Let's measure the qubits we entangled alone!"
   ]
  },
  {
   "cell_type": "markdown",
   "metadata": {},
   "source": [
    "Success!"
   ]
  },
  {
   "cell_type": "markdown",
   "metadata": {},
   "source": [
    "## Let's try out some of the different gates available!"
   ]
  },
  {
   "cell_type": "markdown",
   "metadata": {},
   "source": [
    "### CNOT Gate"
   ]
  },
  {
   "cell_type": "code",
   "execution_count": 14,
   "metadata": {},
   "outputs": [
    {
     "data": {
      "image/png": "[encoded data removed]",
      "text/plain": [
       "<Figure size 432x288 with 1 Axes>"
      ]
     },
     "metadata": {
      "needs_background": "light"
     },
     "output_type": "display_data"
    }
   ],
   "source": [
    "quantum_reg = QuantumRegister(2)\n",
    "\n",
    "quantum_reg.initialise_qubit(0, QuantumRegister.one) # Initialise the control qubit to one\n",
    "\n",
    "quantum_reg.add_gate(QuantumGate('cx'), [0, 1])\n",
    "\n",
    "quantum_reg.apply()\n",
    "\n",
    "plot_counts(quantum_reg.measure(100, [0, 1]))"
   ]
  },
  {
   "cell_type": "code",
   "execution_count": 15,
   "metadata": {},
   "outputs": [
    {
     "data": {
      "image/png": "[encoded data removed]",
      "text/plain": [
       "<Figure size 432x288 with 1 Axes>"
      ]
     },
     "metadata": {
      "needs_background": "light"
     },
     "output_type": "display_data"
    }
   ],
   "source": [
    "quantum_reg.reset()\n",
    "\n",
    "quantum_reg.add_gate(QuantumGate('cx'), [0, 1])\n",
    "\n",
    "quantum_reg.apply()\n",
    "\n",
    "plot_counts(quantum_reg.measure(100, [0, 1])) # The target remains unchanged"
   ]
  },
  {
   "cell_type": "markdown",
   "metadata": {},
   "source": [
    "### SWAP Gate"
   ]
  },
  {
   "cell_type": "code",
   "execution_count": 16,
   "metadata": {},
   "outputs": [
    {
     "data": {
      "image/png": "[encoded data removed]",
      "text/plain": [
       "<Figure size 432x288 with 1 Axes>"
      ]
     },
     "metadata": {
      "needs_background": "light"
     },
     "output_type": "display_data"
    }
   ],
   "source": [
    "quantum_reg = QuantumRegister(2)\n",
    "\n",
    "quantum_reg.initialise_qubit(0, QuantumRegister.one) # Initialise one of qubits to one\n",
    "\n",
    "plot_counts(quantum_reg.measure(100, [0, 1]))"
   ]
  },
  {
   "cell_type": "code",
   "execution_count": 17,
   "metadata": {},
   "outputs": [
    {
     "data": {
      "image/png": "[encoded data removed]",
      "text/plain": [
       "<Figure size 432x288 with 1 Axes>"
      ]
     },
     "metadata": {
      "needs_background": "light"
     },
     "output_type": "display_data"
    }
   ],
   "source": [
    "quantum_reg.add_gate(QuantumGate('swap'), [0, 1])\n",
    "\n",
    "quantum_reg.apply()\n",
    "\n",
    "plot_counts(quantum_reg.measure(100, [0, 1])) # The qubits are swapped"
   ]
  },
  {
   "cell_type": "markdown",
   "metadata": {},
   "source": [
    "### Pauli operators"
   ]
  },
  {
   "cell_type": "code",
   "execution_count": 18,
   "metadata": {},
   "outputs": [
    {
     "data": {
      "image/png": "[encoded data removed]",
      "text/plain": [
       "<Figure size 432x288 with 1 Axes>"
      ]
     },
     "metadata": {
      "needs_background": "light"
     },
     "output_type": "display_data"
    }
   ],
   "source": [
    "quantum_reg = QuantumRegister(1) \n",
    "\n",
    "quantum_reg.add_gate(QuantumGate('x'), [0])\n",
    "\n",
    "quantum_reg.apply()\n",
    "\n",
    "plot_counts(quantum_reg.measure(100, [0])) # The target remains unchanged"
   ]
  },
  {
   "cell_type": "code",
   "execution_count": 19,
   "metadata": {},
   "outputs": [
    {
     "name": "stdout",
     "output_type": "stream",
     "text": [
      "[ 0.+0.j -1.+0.j]\n"
     ]
    },
    {
     "data": {
      "image/png": "[encoded data removed]",
      "text/plain": [
       "<Figure size 432x288 with 1 Axes>"
      ]
     },
     "metadata": {
      "needs_background": "light"
     },
     "output_type": "display_data"
    }
   ],
   "source": [
    "quantum_reg.add_gate(QuantumGate('z'), [0])\n",
    "\n",
    "quantum_reg.apply()\n",
    "\n",
    "print(quantum_reg.get_statevector())\n",
    "plot_counts(quantum_reg.measure(100, [0])) # Same measurement, statevector has phase"
   ]
  },
  {
   "cell_type": "code",
   "execution_count": 20,
   "metadata": {},
   "outputs": [
    {
     "name": "stdout",
     "output_type": "stream",
     "text": [
      "[0.+1.j 0.+0.j]\n"
     ]
    },
    {
     "data": {
      "image/png": "[encoded data removed]",
      "text/plain": [
       "<Figure size 432x288 with 1 Axes>"
      ]
     },
     "metadata": {
      "needs_background": "light"
     },
     "output_type": "display_data"
    }
   ],
   "source": [
    "quantum_reg.add_gate(QuantumGate('y'), [0])\n",
    "\n",
    "quantum_reg.apply()\n",
    "\n",
    "print(quantum_reg.get_statevector())\n",
    "plot_counts(quantum_reg.measure(100, [0])) # Swapped measurement, phase changed"
   ]
  },
  {
   "cell_type": "markdown",
   "metadata": {},
   "source": [
    "### Parametric Gates (Rx, Ry, Rz, U3)"
   ]
  },
  {
   "cell_type": "markdown",
   "metadata": {},
   "source": [
    "Let's attempt to create a Hadamard gate using different combinations of the Rx, Ry, and Rz gates."
   ]
  },
  {
   "cell_type": "markdown",
   "metadata": {},
   "source": [
    "#### Using Rx and Ry"
   ]
  },
  {
   "cell_type": "code",
   "execution_count": 21,
   "metadata": {},
   "outputs": [
    {
     "name": "stdout",
     "output_type": "stream",
     "text": [
      "[0.-0.70710678j 0.-0.70710678j]\n"
     ]
    },
    {
     "data": {
      "image/png": "[encoded data removed]",
      "text/plain": [
       "<Figure size 432x288 with 1 Axes>"
      ]
     },
     "metadata": {
      "needs_background": "light"
     },
     "output_type": "display_data"
    }
   ],
   "source": [
    "quantum_reg = QuantumRegister(1)\n",
    "\n",
    "pi = math.pi\n",
    "quantum_reg.add_gate(QuantumGate('ry', pi / 2), [0]) # As shown, the gate now takes the parameter theta\n",
    "quantum_reg.add_gate(QuantumGate('rx', pi), [0])\n",
    "\n",
    "quantum_reg.apply()\n",
    "\n",
    "print(quantum_reg.get_statevector()) # -i phase will be present\n",
    "\n",
    "plot_counts(quantum_reg.measure(100, [0]))"
   ]
  },
  {
   "cell_type": "markdown",
   "metadata": {},
   "source": [
    "#### Using Ry and Rz gates"
   ]
  },
  {
   "cell_type": "code",
   "execution_count": 22,
   "metadata": {},
   "outputs": [
    {
     "name": "stdout",
     "output_type": "stream",
     "text": [
      "[0.-0.70710678j 0.-0.70710678j]\n"
     ]
    },
    {
     "data": {
      "image/png": "[encoded data removed]",
      "text/plain": [
       "<Figure size 432x288 with 1 Axes>"
      ]
     },
     "metadata": {
      "needs_background": "light"
     },
     "output_type": "display_data"
    }
   ],
   "source": [
    "quantum_reg.reset()\n",
    "\n",
    "quantum_reg.add_gate(QuantumGate('ry', -pi / 2), [0]) # As shown, the gate now takes the parameter theta\n",
    "quantum_reg.add_gate(QuantumGate('rz', pi), [0])\n",
    "\n",
    "quantum_reg.apply()\n",
    "\n",
    "print(quantum_reg.get_statevector()) # -i phase will be present\n",
    "\n",
    "plot_counts(quantum_reg.measure(100, [0]))"
   ]
  },
  {
   "cell_type": "markdown",
   "metadata": {},
   "source": [
    "Let's build the Pauli-Y gate using the universal U3 gate."
   ]
  },
  {
   "cell_type": "code",
   "execution_count": 23,
   "metadata": {},
   "outputs": [
    {
     "name": "stdout",
     "output_type": "stream",
     "text": [
      "[0.+0.j 0.+1.j]\n"
     ]
    },
    {
     "data": {
      "image/png": "[encoded data removed]",
      "text/plain": [
       "<Figure size 432x288 with 1 Axes>"
      ]
     },
     "metadata": {
      "needs_background": "light"
     },
     "output_type": "display_data"
    }
   ],
   "source": [
    "quantum_reg = QuantumRegister(1)\n",
    "\n",
    "pi = math.pi\n",
    "\n",
    "pauli_y = QuantumGate('u3', pi, pi/2, pi/2)\n",
    "quantum_reg.add_gate(pauli_y, [0]) # U3 gate takes three parameters: theta, phi, lambda\n",
    "\n",
    "quantum_reg.apply()\n",
    "\n",
    "print(quantum_reg.get_statevector()) # -i phase will be present\n",
    "\n",
    "plot_counts(quantum_reg.measure(100, [0]))"
   ]
  },
  {
   "cell_type": "code",
   "execution_count": null,
   "metadata": {},
   "outputs": [],
   "source": []
  }
 ],
 "metadata": {
  "kernelspec": {
   "display_name": "Python 3",
   "language": "python",
   "name": "python3"
  },
  "language_info": {
   "codemirror_mode": {
    "name": "ipython",
    "version": 3
   },
   "file_extension": ".py",
   "mimetype": "text/x-python",
   "name": "python",
   "nbconvert_exporter": "python",
   "pygments_lexer": "ipython3",
   "version": "3.8.5"
  }
 },
 "nbformat": 4,
 "nbformat_minor": 4
}
